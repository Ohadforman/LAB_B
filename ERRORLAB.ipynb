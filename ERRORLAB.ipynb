{
 "cells": [
  {
   "cell_type": "code",
   "execution_count": 16,
   "metadata": {},
   "outputs": [],
   "source": [
    "import pandas as pd\n",
    "import numpy as np\n",
    "import os\n",
    "import matplotlib\n",
    "import IPython\n",
    "import matplotlib.pyplot as plt\n",
    "from mpl_toolkits.mplot3d import axes3d  \n",
    "from mpl_toolkits.axes_grid1.inset_locator import zoomed_inset_axes \n",
    "from mpl_toolkits.axes_grid1.inset_locator import mark_inset\n",
    "import time\n",
    "from sympy import symbols, diff\n",
    "from scipy.optimize import curve_fit\n",
    "from eddington import fitting_function\n",
    "from eddington import FittingData, fit\n",
    "from eddington import linear\n",
    "x, y, z = symbols('x y z', real=True)"
   ]
  },
  {
   "cell_type": "code",
   "execution_count": 17,
   "metadata": {},
   "outputs": [],
   "source": [
    "path1A = r\"C:\\Users\\forma\\Programming\\Jupyter Projects\\שיעורי בית\\מעבדה\\מגנטיות\\radios\"\n",
    "path1B = r\"C:\\Users\\forma\\Programming\\Jupyter Projects\\שיעורי בית\\מעבדה\\מגנטיות\\angle\"\n",
    "path2 = r\"C:\\Users\\forma\\Programming\\Jupyter Projects\\שיעורי בית\\מעבדה\\מגנטיות\\partb\"\n",
    "os.chdir(path2)"
   ]
  },
  {
   "cell_type": "code",
   "execution_count": 18,
   "metadata": {},
   "outputs": [],
   "source": [
    "mu0=4*np.pi*10**(-7)"
   ]
  },
  {
   "cell_type": "code",
   "execution_count": 19,
   "metadata": {},
   "outputs": [],
   "source": [
    "#range=30-85\n",
    "def impdata1(n):\n",
    "    os.chdir(path1A)\n",
    "    TIME=[]\n",
    "    MAG=[]\n",
    "    count=0\n",
    "    try:\n",
    "        with open('{}cm.csv'.format(n)) as f:\n",
    "            for line in f.readlines():\n",
    "                line=line.split(',')\n",
    "                #print(line)\n",
    "                if count == 0:\n",
    "                    count=+1\n",
    "                    continue\n",
    "                else: \n",
    "                    None\n",
    "                    TIME.append(float(line[0]))\n",
    "                    MAG.append(float(line[1].strip('\\n'))*10**-3)\n",
    "            return (np.array(TIME), np.array(MAG),n)\n",
    "    except:\n",
    "        None"
   ]
  },
  {
   "cell_type": "code",
   "execution_count": 20,
   "metadata": {},
   "outputs": [],
   "source": [
    "#R=constant=45cm\n",
    "#range=0-360\n",
    "def impdata1B(n):\n",
    "    os.chdir(path1B)\n",
    "    TIME=[]\n",
    "    MAG=[]\n",
    "    count=0\n",
    "    try:\n",
    "        with open('{}d.csv'.format(n)) as f:\n",
    "            for line in f.readlines():\n",
    "                line=line.split(',')\n",
    "                #print(line)\n",
    "                if count == 0:\n",
    "                    count=+1\n",
    "                    continue\n",
    "                else: \n",
    "                    None\n",
    "                    TIME.append(float(line[0]))\n",
    "                    MAG.append(float(line[1].strip('\\n'))*10**-3)\n",
    "            return (np.array(TIME), np.array(MAG),n)\n",
    "    except:\n",
    "        None"
   ]
  },
  {
   "cell_type": "code",
   "execution_count": 21,
   "metadata": {},
   "outputs": [],
   "source": [
    "#range1-10\n",
    "def impdata2B(n):\n",
    "    os.chdir(path2)\n",
    "    TIME=[]\n",
    "    MAG=[]\n",
    "    count=0\n",
    "    try:\n",
    "        with open('{}b.csv'.format(n)) as f:\n",
    "            for line in f.readlines():\n",
    "                line=line.split(',')\n",
    "                #print(line)\n",
    "                if count == 0:\n",
    "                    count=+1\n",
    "                    continue\n",
    "                else: \n",
    "                    None\n",
    "                    TIME.append(float(line[0]))\n",
    "                    MAG.append(float(line[1].strip('\\n')))\n",
    "            return (np.array(TIME), np.array(MAG),n)\n",
    "    except:\n",
    "        None"
   ]
  },
  {
   "cell_type": "code",
   "execution_count": 22,
   "metadata": {},
   "outputs": [],
   "source": [
    "def Erdata():\n",
    "    os.chdir(path1A)\n",
    "    TIME=[]\n",
    "    MAG=[]\n",
    "    count=0\n",
    "    try:\n",
    "        with open('Earth.csv') as f:\n",
    "            for line in f.readlines():\n",
    "                line=line.split(',')\n",
    "                #print(line)\n",
    "                if count == 0:\n",
    "                    count=+1\n",
    "                    continue\n",
    "                else: \n",
    "                    None\n",
    "                    TIME.append(float(line[0]))\n",
    "                    MAG.append(float(line[1].strip('\\n'))*10**-3)\n",
    "            return (np.array(TIME), np.array(MAG))\n",
    "    except:\n",
    "        None"
   ]
  },
  {
   "cell_type": "code",
   "execution_count": 23,
   "metadata": {},
   "outputs": [],
   "source": [
    "data1a=[]\n",
    "for i in range(1,90):\n",
    "    if impdata1(i)!=None:\n",
    "        TIME,MAG,R = impdata1(i)\n",
    "        MEAN=np.mean(MAG)\n",
    "        STD=np.std(MAG)\n",
    "        data1a.append((MEAN,STD,R))"
   ]
  },
  {
   "cell_type": "code",
   "execution_count": 24,
   "metadata": {},
   "outputs": [],
   "source": [
    "data2a=[]\n",
    "for i in range(0,360):\n",
    "    if impdata1B(i) != None:\n",
    "        TIME,MAG,d = impdata1B(i)\n",
    "        MEAN=np.mean(MAG)\n",
    "        STD=np.std(MAG)\n",
    "        data2a.append((MEAN,STD,i))"
   ]
  },
  {
   "cell_type": "code",
   "execution_count": 25,
   "metadata": {},
   "outputs": [
    {
     "name": "stdout",
     "output_type": "stream",
     "text": [
      "Bearth:  4.636e-05 \n",
      " Error Bearth:  2.965490403513951e-07\n"
     ]
    }
   ],
   "source": [
    "TIME,ERB=Erdata()\n",
    "MEANEARTH=np.mean(ERB)\n",
    "STDEARTH=np.std(ERB)\n",
    "err=statres(STDEARTH,50,1*10**-6)\n",
    "print(\"Bearth: \",MEANEARTH,'\\n','Error Bearth: ',err)\n"
   ]
  },
  {
   "cell_type": "code",
   "execution_count": 26,
   "metadata": {},
   "outputs": [],
   "source": [
    "def RES(resu):\n",
    "    return resu/(12)**0.5    "
   ]
  },
  {
   "cell_type": "code",
   "execution_count": 27,
   "metadata": {},
   "outputs": [],
   "source": [
    "def stat(std,N):\n",
    "    return std/(N)**0.5"
   ]
  },
  {
   "cell_type": "code",
   "execution_count": 28,
   "metadata": {},
   "outputs": [],
   "source": [
    "def statres(std,N,res):\n",
    "    st=stat(std,N)\n",
    "    rs=RES(res)\n",
    "    err = (st**2 + rs**2)**0.5\n",
    "    return err"
   ]
  },
  {
   "cell_type": "code",
   "execution_count": 29,
   "metadata": {},
   "outputs": [],
   "source": [
    "def AKIFA(func, x, errx, y, yerr, z, zerr):\n",
    "    if x!=None and errx!=None:\n",
    "        dx=(diff(func, x)*errx)**2\n",
    "    else:\n",
    "        dx=0\n",
    "    if y!=None and yerr!=None:\n",
    "        dy=(diff( func, y)*erry)**2\n",
    "    else:\n",
    "        dy=0\n",
    "    if z!=None and zerr!=None:\n",
    "        dz=(diff( func, z)*errz)**2\n",
    "    else:\n",
    "        dz=0\n",
    "    return((dx+dy+dz)**0.5)"
   ]
  },
  {
   "cell_type": "code",
   "execution_count": 30,
   "metadata": {},
   "outputs": [],
   "source": [
    "def get_Akifa_array(func=None,x_data=None, errx=None,y_data=None, yerr=None,z_data=None, zerr=None):                \n",
    "    err_data=[]\n",
    "    akifa=AKIFA(func,x,errx,y,yerr,z,zerr)\n",
    "    \n",
    "    if x_data==None and y_data==None and z_data==None:\n",
    "        print(\"No vars given\")\n",
    "        \n",
    "    if x_data!=None and y_data==None and z_data==None:\n",
    "        for i in x_data:\n",
    "            err_data.append(akifa.subs(x,i))\n",
    "            \n",
    "    if x_data!=None and y_data!=None and z_data==None:\n",
    "        for i in range(x_data):\n",
    "            err_data.append(akifa.subs({x:x_data[i],y:y_data[i]}))\n",
    "            \n",
    "    if x_data!=None and y_data!=None and z_data!=None:\n",
    "        for i in range(datax_array):\n",
    "            err_data.append(akifa.subs({x:x_data[i],y:y_data[i],z:z_data[i]}))\n",
    "    print(err_data)"
   ]
  },
  {
   "cell_type": "code",
   "execution_count": 31,
   "metadata": {},
   "outputs": [],
   "source": [
    "y=[]\n",
    "y_error=[]\n",
    "x=[]\n",
    "x_error=[]\n",
    "for i in data1a:\n",
    "    y.append((i[0]-MEANEARTH)/mu0)\n",
    "    y_error.append((abs(statres(i[1],50,1*10**-6)**2+statres(STDEARTH,50,1*10**-6)**2)**0.5)/mu0)\n",
    "    x.append(i[2])\n",
    "    x_error.append(RES(0.001))\n",
    "df1A = pd.DataFrame ({\"x\": np.array(x)/100,\"x_error\":x_error ,\"y\": y,\"y_error\":y_error})"
   ]
  },
  {
   "cell_type": "code",
   "execution_count": 32,
   "metadata": {},
   "outputs": [],
   "source": [
    "y=[]\n",
    "y_error=[]\n",
    "x=[]\n",
    "x_error=[]\n",
    "for i in data2a:\n",
    "    y.append((i[0]-MEANEARTH)/mu0)\n",
    "    y_error.append((abs((statres(i[1],50,1*10**-6)**2+statres(STDEARTH,50,1*10**-6)**2))**0.5)/mu0)\n",
    "    x.append(i[2]*np.pi/180)\n",
    "    x_error.append(RES(np.pi/180*np.sqrt(12)))\n",
    "df1B = pd.DataFrame ({\"x\": x,\"x_error\":x_error ,\"y\": y,\"y_error\":y_error})"
   ]
  },
  {
   "cell_type": "code",
   "execution_count": 33,
   "metadata": {},
   "outputs": [],
   "source": [
    "def findstats(array):\n",
    "    picks_ind=[]\n",
    "    picks=[]\n",
    "    for i in range(2,len(array)-2):\n",
    "        if np.all(array[i]>array[i-2:i]) and np.all(array[i]>array[i+1:i+2]):\n",
    "            picks_ind.append(i)\n",
    "        if np.all(array[i]<array[i-2:i]) and np.all(array[i]<array[i+1:i+2]):\n",
    "            picks_ind.append(i)\n",
    "    return picks_ind"
   ]
  },
  {
   "cell_type": "code",
   "execution_count": 34,
   "metadata": {},
   "outputs": [],
   "source": [
    "def findind(arr):\n",
    "    picks_ind1=[]\n",
    "    picks=[]\n",
    "    move=5\n",
    "    for i in range(move,len(arr)-move):\n",
    "        \n",
    "        if np.all(arr[i]<arr[i-move:i]) and np.all(arr[i]<arr[i+1:i+move]):\n",
    "\n",
    "            picks_ind1.append(i)\n",
    "\n",
    "    return picks_ind1"
   ]
  },
  {
   "cell_type": "code",
   "execution_count": 35,
   "metadata": {},
   "outputs": [],
   "source": [
    "lst=[]\n",
    "def calc_from_index(indexes,data_array):\n",
    "    for i in range(len(indexes)-1):\n",
    "        point = abs(data_array[indexes[i+1]]-data_array[indexes[i]])\n",
    "        lst.append(np.array(point))\n",
    "    return(lst)"
   ]
  },
  {
   "cell_type": "code",
   "execution_count": 36,
   "metadata": {},
   "outputs": [],
   "source": [
    "def AVG(lst):\n",
    "    new_lst=[]\n",
    "    for i in range(5,len(lst)-6):\n",
    "        new_lst.append(sum(lst[i-5:i+5])/10)\n",
    "    return new_lst\n",
    "MAGAVG=AVG(MAG[50:-50])"
   ]
  },
  {
   "cell_type": "code",
   "execution_count": 37,
   "metadata": {},
   "outputs": [],
   "source": [
    "def plot_chack(num_pics,MAGAVG,TIME):\n",
    "    lst_of_AMPS=[]\n",
    "    lst_of_TEMPS_inMAX_AMPS=[]\n",
    "    lst_of_TEMPS_inMIN_AMPS=[]\n",
    "    for n in range(0,num_pics):\n",
    "        #fig, ax1 = plt.subplots(figsize=(5,3))\n",
    "        #color = 'tab:blue'\n",
    "        #ax1.set(title='{}'.format(n))\n",
    "        #ax1.set_xlabel(r'$TIME$')\n",
    "        #ax1.set_ylabel('MAGDIELD', color=color)\n",
    "        #ax1.plot(TIME[n*len(MAGAVG)//num_pics:(n+1)*len(MAGAVG)//num_pics],\n",
    "        #         MAGAVG[n*len(MAGAVG)//num_pics:(n+1)*len(MAGAVG)//num_pics], color=color)\n",
    "        #print(\"=============================================================================================\")\n",
    "        lst_of_AMPS.append(np.max(MAGAVG[n*len(MAGAVG)//num_pics:(n+1)*len(MAGAVG)//\n",
    "                                         num_pics])-np.min(MAGAVG[n*len(MAGAVG)//num_pics:(n+1)*len(MAGAVG)//num_pics]))\n",
    "        lst_of_TEMPS_inMAX_AMPS.append(np.argmax(MAGAVG[n*len(MAGAVG)//\n",
    "                                                        num_pics:(n+1)*len(MAGAVG)//num_pics])+n*len(MAGAVG)//num_pics)\n",
    "        lst_of_TEMPS_inMIN_AMPS.append(np.argmin(MAGAVG[n*len(MAGAVG)//\n",
    "                                                        num_pics:(n+1)*len(MAGAVG)//num_pics])+n*len(MAGAVG)//num_pics)\n",
    "        \n",
    "        temp_of_max=[]\n",
    "        for i in lst_of_TEMPS_inMAX_AMPS:\n",
    "            temp_of_max.append(TIME[i])\n",
    "              \n",
    "        temp_of_min=[]\n",
    "        for i in lst_of_TEMPS_inMIN_AMPS:\n",
    "            temp_of_min.append(TIME[i])\n",
    "    time_in_max=np.array(temp_of_max)   \n",
    "    time_in_min=np.array(temp_of_min)\n",
    "    AMPS=np.array(lst_of_AMPS)\n",
    "    AMPS=AMPS/2\n",
    "    NA=len(AMPS)\n",
    "    #print('you need to check if this points are coesponding to the graph\\'s:',\"\\n\",\n",
    "    #     \"the times in max points are:\",time_in_max,'\\n',\n",
    "    #     \"the times in min points:\",time_in_min,'\\n',\n",
    "    #     'the Ampl are:',AMPS,'\\n',\n",
    "    #     \"Number N of AMPL sumpples are:\",N)\n",
    "    return(time_in_max,time_in_min,AMPS,NA)"
   ]
  },
  {
   "cell_type": "code",
   "execution_count": 38,
   "metadata": {},
   "outputs": [],
   "source": [
    "results=[('T','STDT','AMP','STDAMP','NA','NT')]\n",
    "for i in range(1,11):    \n",
    "    pics_list=[6,8,11,14,19,25,31,39,51,58]\n",
    "    TIME,MAG,n=impdata2B(i)\n",
    "    MAGAVG=AVG(MAG[120:-110])\n",
    "    time_in_max,time_in_min,AMPS,NA=plot_chack(pics_list[i-1],MAGAVG,TIME)\n",
    "    \n",
    "    TFRAX=np.ediff1d(time_in_max)\n",
    "    TFRIN=np.ediff1d(time_in_min)\n",
    "    Ttotal=np.concatenate([TFRAX, TFRIN])\n",
    "    NT=len(Ttotal)\n",
    "    T=np.mean(Ttotal)\n",
    "    STDT=np.std(Ttotal)\n",
    "    AMP=np.mean(AMPS)\n",
    "    STDAMP=np.std(AMPS)\n",
    "    results.append((T,STDT,AMP,STDAMP,NA,NT))\n",
    "    \n",
    "    #fig, ax1 = plt.subplots(figsize=(15,3))\n",
    "    #color = 'tab:blue'\n",
    "    #ax1.set(title='{}'.format(n))\n",
    "    #ax1.set_xlabel(r'$TIME$')\n",
    "    #ax1.set_ylabel('MAGDIELD', color=color)\n",
    "    #ax1.plot(TIME,MAG, color=color)\n",
    "df = pd.DataFrame(results)"
   ]
  },
  {
   "cell_type": "code",
   "execution_count": 39,
   "metadata": {},
   "outputs": [],
   "source": [
    "T=np.array(df[0])[1:]\n",
    "TSTD=np.array(df[1])[1:]\n",
    "AMP=np.array(df[2])[1:]\n",
    "AMPSTD=np.array(df[3])[1:]\n",
    "NA=np.array(df[4])[1:]\n",
    "NT=np.array(df[5])[1:]\n",
    "\n",
    "\n",
    "\n",
    "stat_T = TSTD/(NT)**0.5\n",
    "stat_A = AMPSTD/(NA)**0.5\n",
    "\n",
    "res_t=RES(1/500)\n",
    "res_v=RES(0.001)\n",
    "resu_tt=np.sqrt(2)*res_t\n",
    "resu_vt=np.sqrt(2)*res_v/2\n",
    "T_err=(stat_T**2+resu_tt**2)**0.5\n",
    "\n",
    "\n",
    "omega = (2*np.pi)/T\n",
    "\n",
    "x=omega\n",
    "y=AMP\n",
    "\n",
    "y_error = (stat_A**2+resu_vt**2)**0.5\n",
    "x_error = (2*np.pi*T_err)/T**2"
   ]
  },
  {
   "cell_type": "code",
   "execution_count": 40,
   "metadata": {},
   "outputs": [],
   "source": [
    "df2 = pd.DataFrame ({\"x\": x,\"x_error\":x_error ,\"y\": y,\"y_error\":y_error})"
   ]
  },
  {
   "cell_type": "code",
   "execution_count": 41,
   "metadata": {},
   "outputs": [
    {
     "name": "stdout",
     "output_type": "stream",
     "text": [
      "THE final data to process inthe presnttion of 10 first lines:\n",
      "\n",
      " the first part first part data with errors are: \n",
      "\n",
      "      x   x_error          y   y_error\n",
      "0  0.30  0.000289  51.629864  0.333583\n",
      "1  0.31  0.000289  43.321976  0.333158\n",
      "2  0.32  0.000289  36.462397  0.332160\n",
      "3  0.33  0.000289  30.637327  0.331641\n",
      "4  0.34  0.000289  26.547045  0.333188\n",
      "5  0.35  0.000289  22.631833  0.332396\n",
      "6  0.36  0.000289  19.607889  0.329334\n",
      "7  0.37  0.000289  16.695354  0.333621\n",
      "8  0.38  0.000289  14.562677  0.333621\n",
      "9  0.39  0.000289  13.241691  0.329334\n",
      "\n",
      " the first part second part data with errors are: \n",
      "\n",
      "          x   x_error         y   y_error\n",
      "0  0.000000  0.017453  6.764085  0.331641\n",
      "1  0.261799  0.017453  6.700423  0.332617\n",
      "2  0.523599  0.017453  5.474930  0.332823\n",
      "3  0.785398  0.017453  4.631409  0.332922\n",
      "4  1.047198  0.017453  2.594226  0.333834\n",
      "5  1.308997  0.017453  0.954930  0.334038\n",
      "6  1.570796  0.017453 -0.302394  0.329711\n",
      "7  1.832596  0.017453 -2.435071  0.333348\n",
      "8  2.094395  0.017453 -4.010705  0.333492\n",
      "9  2.356194  0.017453 -5.188451  0.331908\n",
      "\n",
      " the second  data with errors are: \n",
      "\n",
      "         x   x_error          y      y_error\n",
      "0  10.1768   0.14403  0.0186917   0.00021998\n",
      "1  14.3968   1.47498  0.0224375  0.000252036\n",
      "2  20.0038   1.43241  0.0324591  0.000234974\n",
      "3  25.0864  0.984671  0.0433143  0.000218691\n",
      "4  33.6299    1.6441  0.0549921  0.000220381\n",
      "5  44.1442   1.87432   0.071698  0.000218244\n",
      "6  55.4888   2.34845  0.0876435   0.00022384\n",
      "7  69.4477   2.68276   0.107223  0.000258611\n",
      "8  91.3785   3.65828   0.131496  0.000308488\n",
      "9  103.809   3.72238   0.147991  0.000326879\n"
     ]
    }
   ],
   "source": [
    "print(\"THE final data to process in\"+ \n",
    "      \"the presnttion of 10 first lines:\")\n",
    "\n",
    "print('\\n',\"the first part first part data with errors are:\",'\\n')\n",
    "\n",
    "print(df1A[:10])\n",
    "\n",
    "print('\\n',\"the first part second part data with errors are:\",'\\n')\n",
    "\n",
    "print(df1B[:10])\n",
    "\n",
    "print('\\n',\"the second  data with errors are:\",'\\n')\n",
    "\n",
    "print(df2)"
   ]
  },
  {
   "cell_type": "code",
   "execution_count": 42,
   "metadata": {},
   "outputs": [],
   "source": [
    "path21A=r'C:\\Users\\forma\\Programming\\Jupyter Projects\\שיעורי בית\\מעבדה\\מגנטיות\\PART11.csv'\n",
    "path21B=r'C:\\Users\\forma\\Programming\\Jupyter Projects\\שיעורי בית\\מעבדה\\מגנטיות\\PART12.csv'\n",
    "path22=r'C:\\Users\\forma\\Programming\\Jupyter Projects\\שיעורי בית\\מעבדה\\מגנטיות\\PART2.csv'\n",
    "\n",
    "df1A.to_csv(path21A, index = False)\n",
    "df1B.to_csv(path21B, index = False)\n",
    "df2.to_csv(path22, index = False)"
   ]
  },
  {
   "cell_type": "code",
   "execution_count": 43,
   "metadata": {},
   "outputs": [],
   "source": [
    "\n",
    "@fitting_function(n=3,save=False)\n",
    "def PART111(a, x):\n",
    "    return ((a[0]) / (x + a[1])**3) + a[2]\n",
    "@fitting_function(n=3,save=False)\n",
    "def PART12(a, x):\n",
    "    return a[0]*np.cos(x + a[1]) + a[2]"
   ]
  },
  {
   "cell_type": "code",
   "execution_count": null,
   "metadata": {},
   "outputs": [],
   "source": []
  },
  {
   "cell_type": "code",
   "execution_count": null,
   "metadata": {},
   "outputs": [],
   "source": []
  }
 ],
 "metadata": {
  "kernelspec": {
   "display_name": "Python 3",
   "language": "python",
   "name": "python3"
  },
  "language_info": {
   "codemirror_mode": {
    "name": "ipython",
    "version": 3
   },
   "file_extension": ".py",
   "mimetype": "text/x-python",
   "name": "python",
   "nbconvert_exporter": "python",
   "pygments_lexer": "ipython3",
   "version": "3.8.3"
  }
 },
 "nbformat": 4,
 "nbformat_minor": 4
}
